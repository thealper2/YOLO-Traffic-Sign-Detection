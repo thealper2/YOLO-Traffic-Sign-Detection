{
 "cells": [
  {
   "cell_type": "markdown",
   "id": "152ddde4-8805-4b03-80c5-8831f83b8177",
   "metadata": {},
   "source": [
    "# Import Libraries"
   ]
  },
  {
   "cell_type": "code",
   "execution_count": null,
   "id": "c5f47a09-41e4-4ca5-89cb-01744922089c",
   "metadata": {},
   "outputs": [],
   "source": [
    "import os\n",
    "import cv2\n",
    "import shutil\n",
    "import random\n",
    "\n",
    "import numpy as np\n",
    "import matplotlib.pyplot as plt\n",
    "\n",
    "from ultralytics import YOLO"
   ]
  },
  {
   "cell_type": "markdown",
   "id": "3a6cc2de-8b67-44c5-ba32-df4c76e90dda",
   "metadata": {},
   "source": [
    "# Load Data"
   ]
  },
  {
   "cell_type": "code",
   "execution_count": null,
   "id": "85c28bbb-8b65-4cca-a7cb-39a0b9727b67",
   "metadata": {},
   "outputs": [],
   "source": [
    "data_dir = \"/mnt/d/Datasets/yolo-traffic-signs/ts/ts/\"\n",
    "output_dir = \"/mnt/d/Datasets/yolo-traffic-signs/yolo-data\""
   ]
  },
  {
   "cell_type": "code",
   "execution_count": null,
   "id": "d4ac2578-c232-4ff7-8852-093a791ee100",
   "metadata": {},
   "outputs": [],
   "source": [
    "os.makedirs(output_dir, exist_ok=True)"
   ]
  },
  {
   "cell_type": "code",
   "execution_count": null,
   "id": "3fb25c5e-7be9-467b-b0a8-1713af96bea4",
   "metadata": {},
   "outputs": [],
   "source": [
    "train_images_dir = os.path.join(output_dir, \"train/images\")\n",
    "train_labels_dir = os.path.join(output_dir, \"train/labels\")\n",
    "val_images_dir = os.path.join(output_dir, \"val/images\")\n",
    "val_labels_dir = os.path.join(output_dir, \"val/labels\")\n",
    "\n",
    "os.makedirs(train_images_dir, exist_ok=True)\n",
    "os.makedirs(train_labels_dir, exist_ok=True)\n",
    "os.makedirs(val_images_dir, exist_ok=True)\n",
    "os.makedirs(val_labels_dir, exist_ok=True)"
   ]
  },
  {
   "cell_type": "code",
   "execution_count": null,
   "id": "4de4f556-2ca1-417f-aeb5-efa0cb4025b2",
   "metadata": {},
   "outputs": [],
   "source": [
    "train_ratio = 0.8"
   ]
  },
  {
   "cell_type": "code",
   "execution_count": null,
   "id": "60c91130-fb8b-4fdd-9242-d9ef185ec22b",
   "metadata": {},
   "outputs": [],
   "source": [
    "files = os.listdir(data_dir)\n",
    "jpg_files = [f for f in files if f.endswith(\".jpg\")]\n",
    "txt_files = [f for f in files if f.endswith(\".txt\")]"
   ]
  },
  {
   "cell_type": "code",
   "execution_count": null,
   "id": "0268d230-6814-4463-a007-010618566f2f",
   "metadata": {},
   "outputs": [],
   "source": [
    "combined_files = list(zip(jpg_files, txt_files))\n",
    "random.shuffle(combined_files)\n",
    "train_size = int(len(combined_files) * train_ratio)"
   ]
  },
  {
   "cell_type": "code",
   "execution_count": null,
   "id": "7cf1798e-a839-4e37-9531-9969139495fa",
   "metadata": {},
   "outputs": [],
   "source": [
    "train_files = combined_files[:train_size]\n",
    "val_files = combined_files[train_size:]"
   ]
  },
  {
   "cell_type": "code",
   "execution_count": null,
   "id": "c8d1a631-f56b-4d07-b125-6169b5ed38e0",
   "metadata": {},
   "outputs": [],
   "source": [
    "def copy_files(file_pairs, img_dest, lbl_dest):\n",
    "    for img_file, txt_file in file_pairs:\n",
    "        shutil.copy(os.path.join(data_dir, img_file), os.path.join(img_dest, img_file))\n",
    "        shutil.copy(os.path.join(data_dir, txt_file), os.path.join(lbl_dest, txt_file))"
   ]
  },
  {
   "cell_type": "code",
   "execution_count": null,
   "id": "b71dccf3-f121-4ba8-9248-92e31efd77a9",
   "metadata": {},
   "outputs": [],
   "source": [
    "copy_files(train_files, train_images_dir, train_labels_dir)"
   ]
  },
  {
   "cell_type": "code",
   "execution_count": null,
   "id": "3553260b-be71-4e0c-ac4d-1005be9c5ac4",
   "metadata": {},
   "outputs": [],
   "source": [
    "copy_files(val_files, val_images_dir, val_labels_dir)"
   ]
  },
  {
   "cell_type": "code",
   "execution_count": null,
   "id": "18509662-c2a2-45d2-af24-acb8b790f321",
   "metadata": {},
   "outputs": [],
   "source": [
    "data_yaml = f\"\"\"\n",
    "names:\n",
    "  0: prohibitory\n",
    "  1: danger\n",
    "  2: mandatory\n",
    "  3: other\n",
    "nc: 4\n",
    "train: {os.path.abspath(train_images_dir)}\n",
    "val: {os.path.abspath(val_images_dir)}\n",
    "\"\"\""
   ]
  },
  {
   "cell_type": "code",
   "execution_count": null,
   "id": "5b0b39c7-7cfc-4738-b382-2f1d37624995",
   "metadata": {},
   "outputs": [],
   "source": [
    "with open(os.path.join(output_dir, \"data.yaml\"), \"w\") as f:\n",
    "    f.write(data_yaml)\n",
    "\n",
    "f.close()"
   ]
  },
  {
   "cell_type": "markdown",
   "id": "27ead5bb-bb90-4570-aabd-ae8c528ea30d",
   "metadata": {},
   "source": [
    "# Visualization"
   ]
  },
  {
   "cell_type": "code",
   "execution_count": null,
   "id": "fe6ac585-5ce7-4931-8de3-24cbfb684bff",
   "metadata": {},
   "outputs": [],
   "source": [
    "def plot_images_with_bboxes(samples, images_dir, labels_dir, class_names):\n",
    "    fig, axes = plt.subplots(nrows=len(samples), ncols=1, figsize=(8, 16))\n",
    "    axes = axes.flatten()\n",
    "    \n",
    "    for idx, sample in enumerate(samples):\n",
    "        img_path = os.path.join(images_dir, sample[0])\n",
    "        label_path = os.path.join(labels_dir, sample[1])\n",
    "        image = cv2.cvtColor(cv2.imread(img_path), cv2.COLOR_BGR2RGB)\n",
    "        \n",
    "        if os.path.exists(label_path):\n",
    "            with open(label_path, 'r') as file:\n",
    "                for line in file:\n",
    "                    class_id, x, y, w, h = map(float, line.split())\n",
    "                    h_img, w_img, _ = image.shape\n",
    "                    x, y, w, h = x * w_img, y * h_img, w * w_img, h * h_img\n",
    "                    x_min, y_min = int(x - w / 2), int(y - h / 2)\n",
    "                    x_max, y_max = int(x + w / 2), int(y + h / 2)\n",
    "                    \n",
    "                    cv2.rectangle(image, (x_min, y_min), (x_max, y_max), (0, 0, 255), 2)\n",
    "                    cv2.putText(image, class_names[int(class_id)], (x_min, max(y_min - 10, 10)), \n",
    "                                cv2.FONT_HERSHEY_SIMPLEX, 0.5, (0, 255, 0), 2)\n",
    "\n",
    "        axes[idx].imshow(image)\n",
    "        axes[idx].axis('off')\n",
    "    \n",
    "    plt.tight_layout()\n",
    "    plt.show()"
   ]
  },
  {
   "cell_type": "code",
   "execution_count": null,
   "id": "918a13c9-6d3f-4d94-bb97-4fd5bcc81c39",
   "metadata": {},
   "outputs": [],
   "source": [
    "samples = random.sample(train_files, 4)"
   ]
  },
  {
   "cell_type": "code",
   "execution_count": null,
   "id": "f1426607-6a6f-4430-b14c-7ed66a430169",
   "metadata": {},
   "outputs": [],
   "source": [
    "class_names = [\"prohibitory\", \"danger\", \"mandatory\", \"other\"]"
   ]
  },
  {
   "cell_type": "code",
   "execution_count": null,
   "id": "e4e2e1bf-494f-46c9-a847-2de962575456",
   "metadata": {},
   "outputs": [],
   "source": [
    "plot_images_with_bboxes(samples, train_images_dir, train_labels_dir, class_names)"
   ]
  },
  {
   "cell_type": "markdown",
   "id": "45a9a1d6-9247-4794-b6c1-e42e1005821f",
   "metadata": {},
   "source": [
    "# Train"
   ]
  },
  {
   "cell_type": "code",
   "execution_count": null,
   "id": "97c303b3-051c-40c2-b1a2-40484a83bea5",
   "metadata": {},
   "outputs": [],
   "source": [
    "model = YOLO('yolov8x.pt')"
   ]
  },
  {
   "cell_type": "code",
   "execution_count": null,
   "id": "d9600e29-29b0-4744-be18-c31f3e8442df",
   "metadata": {},
   "outputs": [],
   "source": [
    "results = model.train(\n",
    "    data = os.path.join(output_dir, \"data.yaml\"),\n",
    "    epochs = 50,\n",
    "    seed = 42,\n",
    "    batch = 16,\n",
    ")"
   ]
  },
  {
   "cell_type": "markdown",
   "id": "67c72a71-2192-44fb-a226-7023bd50e5ac",
   "metadata": {},
   "source": [
    "# Results"
   ]
  },
  {
   "cell_type": "code",
   "execution_count": null,
   "id": "72a0d460-242c-4bb6-b0ee-824dcfc64aaf",
   "metadata": {},
   "outputs": [],
   "source": [
    "metrics = model.val(\n",
    "    data = os.path.join(output_dir, \"data.yaml\"),\n",
    ")"
   ]
  },
  {
   "cell_type": "code",
   "execution_count": null,
   "id": "dde6b2b0-6c21-4f0e-9315-70e2956cb5aa",
   "metadata": {},
   "outputs": [],
   "source": [
    "df = pd.read_csv(\"/kaggle/working/runs/detect/train2/results.csv\")\n",
    "df.columns = df.columns.str.strip()"
   ]
  },
  {
   "cell_type": "code",
   "execution_count": null,
   "id": "12d952c0-c41a-49d2-8deb-d3f419c6f242",
   "metadata": {},
   "outputs": [],
   "source": [
    "metrics_list = [\n",
    "    ('train/box_loss', 'Train Box Loss'),\n",
    "    ('train/cls_loss', 'Train Class Loss'),\n",
    "    ('train/dfl_loss', 'Train DFL Loss'),\n",
    "    ('metrics/precision(B)', 'Metrics Precision (B)'),\n",
    "    ('metrics/recall(B)', 'Metrics Recall (B)'),\n",
    "    ('metrics/mAP50(B)', 'Metrics mAP50 (B)'),\n",
    "    ('metrics/mAP50-95(B)', 'Metrics mAP50-95 (B)'),\n",
    "    ('val/box_loss', 'Validation Box Loss'),\n",
    "    ('val/cls_loss', 'Validation Class Loss'),\n",
    "    ('val/dfl_loss', 'Validation DFL Loss'),\n",
    "]\n",
    "\n",
    "fig, axs = plt.subplots(nrows=5, ncols=2, figsize=(15, 15))\n",
    "for ax, (col, title) in zip(axs.flatten(), metrics_list):\n",
    "    sns.lineplot(x='epoch', y=col, data=df, ax=ax).set(title=title)\n",
    "\n",
    "plt.suptitle('Training Metrics and Loss', fontsize=24)\n",
    "plt.tight_layout(rect=[0, 0, 1, 0.95])\n",
    "plt.show()"
   ]
  },
  {
   "cell_type": "code",
   "execution_count": null,
   "id": "91d01417-e3da-480e-b5c2-2f6b5918654c",
   "metadata": {},
   "outputs": [],
   "source": [
    "conf_matrix = plt.imread('/kaggle/working/runs/detect/train/confusion_matrix_normalized.png')\n",
    "\n",
    "plt.figure(figsize=(8, 8))\n",
    "plt.imshow(conf_matrix)\n",
    "plt.axis('off')\n",
    "plt.show()"
   ]
  },
  {
   "cell_type": "code",
   "execution_count": null,
   "id": "222094dd-d73e-444c-b1c8-7f88649f4fab",
   "metadata": {},
   "outputs": [],
   "source": [
    "p_curve = plt.imread('/kaggle/working/runs/detect/train/P_curve.png')\n",
    "\n",
    "plt.figure(figsize=(8, 8))\n",
    "plt.imshow(p_curve)\n",
    "plt.axis('off')\n",
    "plt.show()"
   ]
  },
  {
   "cell_type": "code",
   "execution_count": null,
   "id": "1fbf9d88-2822-4188-9f9d-572db5d8c2f7",
   "metadata": {},
   "outputs": [],
   "source": [
    "r_curve = plt.imread('/kaggle/working/runs/detect/train/R_curve.png')\n",
    "\n",
    "plt.figure(figsize=(8, 8))\n",
    "plt.imshow(img)\n",
    "plt.axis('off')\n",
    "plt.show()"
   ]
  },
  {
   "cell_type": "code",
   "execution_count": null,
   "id": "a8680890-0cc5-4630-9f2d-273599a77126",
   "metadata": {},
   "outputs": [],
   "source": [
    "pr_curve = plt.imread('/kaggle/working/runs/detect/train/PR_curve.png')\n",
    "\n",
    "plt.figure(figsize=(8, 8))\n",
    "plt.imshow(img)\n",
    "plt.axis('off')\n",
    "plt.show()"
   ]
  },
  {
   "cell_type": "markdown",
   "id": "85091116-aa89-4749-9666-4834dd1b4dd9",
   "metadata": {},
   "source": [
    "# Test"
   ]
  },
  {
   "cell_type": "code",
   "execution_count": null,
   "id": "8eba93d2-e06b-4aad-8445-2d433b802ae9",
   "metadata": {},
   "outputs": [],
   "source": [
    "!yolo task=detect mode=predict model=/kaggle/working/runs/detect/train2/weights/best.pt \\\n",
    "source='./yolo-data/train/images/00028.jpg'"
   ]
  },
  {
   "cell_type": "code",
   "execution_count": null,
   "id": "bbaf4a7b-4db9-40ef-acbd-bb7881a1e7db",
   "metadata": {},
   "outputs": [],
   "source": [
    "test_image = plt.imread('/kaggle/working/runs/detect/predict/00028.jpg')\n",
    "\n",
    "plt.figure(figsize=(8, 8))\n",
    "plt.imshow(test_image)\n",
    "plt.axis('off')\n",
    "plt.show()"
   ]
  },
  {
   "cell_type": "code",
   "execution_count": null,
   "id": "0c221ec4-87c4-42a0-89c0-283bd1dd0b0b",
   "metadata": {},
   "outputs": [],
   "source": [
    "!yolo task=detect mode=predict model=/kaggle/working/runs/detect/train/weights/best.pt \\\n",
    "source='/mnt/d/Datasets/yolo-traffic-signs/traffic-sign-to-test.mp4'"
   ]
  }
 ],
 "metadata": {
  "kernelspec": {
   "display_name": "Python 3 (ipykernel)",
   "language": "python",
   "name": "python3"
  },
  "language_info": {
   "codemirror_mode": {
    "name": "ipython",
    "version": 3
   },
   "file_extension": ".py",
   "mimetype": "text/x-python",
   "name": "python",
   "nbconvert_exporter": "python",
   "pygments_lexer": "ipython3",
   "version": "3.10.12"
  }
 },
 "nbformat": 4,
 "nbformat_minor": 5
}
